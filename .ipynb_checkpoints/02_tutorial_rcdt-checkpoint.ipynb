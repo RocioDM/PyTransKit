{
 "cells": [
  {
   "cell_type": "code",
   "execution_count": 1,
   "metadata": {},
   "outputs": [],
   "source": [
    "import numpy as np\n",
    "from skimage.io import imread\n",
    "from skimage.color import rgb2gray\n",
    "from skimage.transform import radon, iradon\n",
    "from optrans.continuous.radoncdt import RadonCDT\n",
    "from optrans.utils import signal_to_pdf\n",
    "from sklearn.discriminant_analysis import LinearDiscriminantAnalysis as LDA\n",
    "from scipy.ndimage import filters\n",
    "from sklearn.svm import LinearSVC\n",
    "import matplotlib.pyplot as plt\n"
   ]
  },
  {
   "cell_type": "code",
   "execution_count": 2,
   "metadata": {},
   "outputs": [
    {
     "ename": "TypeError",
     "evalue": "forward() missing 2 required positional arguments: 'x1' and 'sig1'",
     "output_type": "error",
     "traceback": [
      "\u001b[0;31m---------------------------------------------------------------------------\u001b[0m",
      "\u001b[0;31mTypeError\u001b[0m                                 Traceback (most recent call last)",
      "\u001b[0;32m<ipython-input-2-6a6342da8797>\u001b[0m in \u001b[0;36m<module>\u001b[0;34m\u001b[0m\n\u001b[1;32m      9\u001b[0m \u001b[0mI\u001b[0m \u001b[0;34m=\u001b[0m \u001b[0mnp\u001b[0m\u001b[0;34m.\u001b[0m\u001b[0mzeros\u001b[0m\u001b[0;34m(\u001b[0m\u001b[0;34m(\u001b[0m\u001b[0;36m3\u001b[0m\u001b[0;34m,\u001b[0m \u001b[0mN\u001b[0m\u001b[0;34m,\u001b[0m \u001b[0;36m128\u001b[0m\u001b[0;34m,\u001b[0m \u001b[0;36m128\u001b[0m\u001b[0;34m)\u001b[0m\u001b[0;34m)\u001b[0m\u001b[0;34m\u001b[0m\u001b[0;34m\u001b[0m\u001b[0m\n\u001b[1;32m     10\u001b[0m \u001b[0mtemplate\u001b[0m \u001b[0;34m=\u001b[0m \u001b[0mnp\u001b[0m\u001b[0;34m.\u001b[0m\u001b[0mones\u001b[0m\u001b[0;34m(\u001b[0m\u001b[0;34m(\u001b[0m\u001b[0;36m128\u001b[0m\u001b[0;34m,\u001b[0m \u001b[0;36m128\u001b[0m\u001b[0;34m)\u001b[0m\u001b[0;34m)\u001b[0m\u001b[0;34m\u001b[0m\u001b[0;34m\u001b[0m\u001b[0m\n\u001b[0;32m---> 11\u001b[0;31m \u001b[0mK\u001b[0m\u001b[0;34m,\u001b[0m \u001b[0mL\u001b[0m \u001b[0;34m=\u001b[0m \u001b[0mradoncdt\u001b[0m\u001b[0;34m.\u001b[0m\u001b[0mforward\u001b[0m\u001b[0;34m(\u001b[0m\u001b[0mtemplate\u001b[0m\u001b[0;34m,\u001b[0m \u001b[0mI\u001b[0m\u001b[0;34m[\u001b[0m\u001b[0;36m0\u001b[0m\u001b[0;34m,\u001b[0m \u001b[0;36m0\u001b[0m\u001b[0;34m,\u001b[0m \u001b[0;34m:\u001b[0m\u001b[0;34m,\u001b[0m \u001b[0;34m:\u001b[0m\u001b[0;34m]\u001b[0m\u001b[0;34m+\u001b[0m\u001b[0;36m1e-8\u001b[0m\u001b[0;34m)\u001b[0m\u001b[0;34m.\u001b[0m\u001b[0mshape\u001b[0m\u001b[0;34m\u001b[0m\u001b[0;34m\u001b[0m\u001b[0m\n\u001b[0m\u001b[1;32m     12\u001b[0m \u001b[0mIhat\u001b[0m \u001b[0;34m=\u001b[0m \u001b[0mnp\u001b[0m\u001b[0;34m.\u001b[0m\u001b[0mzeros\u001b[0m\u001b[0;34m(\u001b[0m\u001b[0;34m(\u001b[0m\u001b[0;36m3\u001b[0m\u001b[0;34m,\u001b[0m \u001b[0mN\u001b[0m\u001b[0;34m,\u001b[0m \u001b[0mK\u001b[0m\u001b[0;34m,\u001b[0m \u001b[0mL\u001b[0m\u001b[0;34m)\u001b[0m\u001b[0;34m)\u001b[0m\u001b[0;34m\u001b[0m\u001b[0;34m\u001b[0m\u001b[0m\n\u001b[1;32m     13\u001b[0m \u001b[0mIhat\u001b[0m \u001b[0;34m=\u001b[0m \u001b[0mnp\u001b[0m\u001b[0;34m.\u001b[0m\u001b[0mrandom\u001b[0m\u001b[0;34m.\u001b[0m\u001b[0mrandn\u001b[0m\u001b[0;34m(\u001b[0m\u001b[0;36m3\u001b[0m\u001b[0;34m,\u001b[0m \u001b[0mN\u001b[0m\u001b[0;34m,\u001b[0m \u001b[0mK\u001b[0m\u001b[0;34m,\u001b[0m \u001b[0mL\u001b[0m\u001b[0;34m)\u001b[0m\u001b[0;34m\u001b[0m\u001b[0;34m\u001b[0m\u001b[0m\n",
      "\u001b[0;32m~/Research/Lagrangian transform/TransPy/git_repo/TransPy/optrans/continuous/radoncdt.py\u001b[0m in \u001b[0;36mforward\u001b[0;34m(self, sig0, sig1)\u001b[0m\n\u001b[1;32m     84\u001b[0m \u001b[0;34m\u001b[0m\u001b[0m\n\u001b[1;32m     85\u001b[0m             \u001b[0;31m# Compute CDT of this projection\u001b[0m\u001b[0;34m\u001b[0m\u001b[0;34m\u001b[0m\u001b[0;34m\u001b[0m\u001b[0m\n\u001b[0;32m---> 86\u001b[0;31m             \u001b[0mlot\u001b[0m\u001b[0;34m,\u001b[0m \u001b[0m_\u001b[0m \u001b[0;34m=\u001b[0m \u001b[0mcdt\u001b[0m\u001b[0;34m.\u001b[0m\u001b[0mforward\u001b[0m\u001b[0;34m(\u001b[0m\u001b[0mj0\u001b[0m\u001b[0;34m,\u001b[0m \u001b[0mj1\u001b[0m\u001b[0;34m)\u001b[0m\u001b[0;34m\u001b[0m\u001b[0;34m\u001b[0m\u001b[0m\n\u001b[0m\u001b[1;32m     87\u001b[0m \u001b[0;34m\u001b[0m\u001b[0m\n\u001b[1;32m     88\u001b[0m             \u001b[0;31m# Update 2D Radon-CDT, displacements, and transport map\u001b[0m\u001b[0;34m\u001b[0m\u001b[0;34m\u001b[0m\u001b[0;34m\u001b[0m\u001b[0m\n",
      "\u001b[0;31mTypeError\u001b[0m: forward() missing 2 required positional arguments: 'x1' and 'sig1'"
     ]
    }
   ],
   "source": [
    "np.random.seed(123)\n",
    "# Initialize RadonCDT object\n",
    "radoncdt = RadonCDT()\n",
    "\n",
    "# Generate 3 classes of k-modal two-dimensional Gaussians\n",
    "N = 100  # Number of datapoints per class\n",
    "sigma = 3  # Standard deviation of each Gaussian\n",
    "# Initialize\n",
    "I = np.zeros((3, N, 128, 128))\n",
    "template = np.ones((128, 128))\n",
    "K, L = radoncdt.forward(template, I[0, 0, :, :]+1e-8).shape\n",
    "Ihat = np.zeros((3, N, K, L))\n",
    "Ihat = np.random.randn(3, N, K, L)\n",
    "# Generate dataset\n",
    "for c in range(3):\n",
    "  for i in range(N):\n",
    "    for _ in range(c + 1):\n",
    "      x, y = np.random.uniform(30, 98, (2,)).astype('int')\n",
    "      I[c, i, x, y] = 1\n",
    "    I[c, i, :, :] = I[c, i, :, :] / I[c, i, :, :].sum()\n",
    "    I[c, i, :, :] = filters.gaussian_filter(I[c, i, :, :], sigma=sigma)\n",
    "    Ihat[c, i, :, :] = radoncdt.forward(template, I[c, i, :, :])"
   ]
  },
  {
   "cell_type": "code",
   "execution_count": null,
   "metadata": {},
   "outputs": [],
   "source": [
    "\n",
    "fig, ax = plt.subplots(2, 3, figsize=(12, 4))\n",
    "title = ['Class 1', 'Class 2', 'Class 3']\n",
    "for c in range(3):\n",
    "  ind = np.random.randint(low=0, high=N)\n",
    "  ax[0, c].imshow(I[c, ind, :, :])\n",
    "  ax[0, c].set_xticks([])\n",
    "  ax[0, c].set_yticks([])\n",
    "  ax[0, c].set_title(title[c] + ' Original space', fontsize=14)\n",
    "  ax[1, c].imshow(Ihat[c, ind, :, :])\n",
    "  ax[1, c].set_xticks([])\n",
    "  ax[1, c].set_yticks([])\n",
    "  ax[1, c].set_title(title[c] + ' Radon-CDT space', fontsize=14)\n",
    "plt.show()"
   ]
  },
  {
   "cell_type": "code",
   "execution_count": null,
   "metadata": {},
   "outputs": [],
   "source": [
    "X=np.reshape(I,(3*N,128*128))\n",
    "Xhat=np.reshape(Ihat,(3*N,K*L))\n",
    "label=np.concatenate([np.ones(N), np.ones(N)+1, np.ones(N)+2])\n",
    "lda=LDA(solver='svd', n_components=2)\n",
    "n=N\n",
    "# Apply LDA  in Signal Space\n",
    "Xlda=lda.fit_transform(X,label)\n",
    "svm=LinearSVC()\n",
    "svm.fit(Xlda,label)\n",
    "# Apply LDA in transform space \n",
    "Xhatlda=lda.fit_transform(Xhat,label)\n",
    "svmhat=LinearSVC()\n",
    "svmhat.fit(Xhatlda,label)\n",
    "# Show classification boundaries in both Spaces\n",
    "svmClassifier=[svm,svmhat]\n",
    "Xdata=[Xlda,Xhatlda]\n",
    "title=['LDA subspace in the original space','LDA subspace in the Radon-CDT space']\n",
    "fig,ax=plt.subplots(1,2,figsize=(10,5))\n",
    "for i in range(2):\n",
    "    ax[i].plot(Xdata[i][:n,0],Xdata[i][:n,1],'b*')\n",
    "    ax[i].plot(Xdata[i][n:2*n,0],Xdata[i][n:2*n,1],'ro')\n",
    "    ax[i].plot(Xdata[i][2*n:,0],Xdata[i][2*n:,1],'kx')\n",
    "\n",
    "    x_min, x_max = ax[i].get_xlim()\n",
    "    y_min, y_max = ax[i].get_ylim()\n",
    "    nx, ny = 400, 200\n",
    "    xx, yy = np.meshgrid(np.linspace(x_min, x_max, nx),\n",
    "                         np.linspace(y_min, y_max, ny))\n",
    "    Z = svmClassifier[i].predict(np.c_[xx.ravel(), yy.ravel()])\n",
    "    Z = Z[:].reshape(xx.shape)\n",
    "\n",
    "    ax[i].pcolormesh(xx, yy, Z,cmap='OrRd')\n",
    "    ax[i].contour(xx, yy, Z, linewidths=.5, colors='k')\n",
    "    ax[i].set_title(title[i],fontsize=14)\n",
    "    ax[i].set_xticks([])\n",
    "    ax[i].set_yticks([])"
   ]
  },
  {
   "cell_type": "code",
   "execution_count": null,
   "metadata": {},
   "outputs": [],
   "source": []
  },
  {
   "cell_type": "code",
   "execution_count": null,
   "metadata": {},
   "outputs": [],
   "source": []
  }
 ],
 "metadata": {
  "anaconda-cloud": {},
  "kernelspec": {
   "display_name": "Python 3",
   "language": "python",
   "name": "python3"
  },
  "language_info": {
   "codemirror_mode": {
    "name": "ipython",
    "version": 3
   },
   "file_extension": ".py",
   "mimetype": "text/x-python",
   "name": "python",
   "nbconvert_exporter": "python",
   "pygments_lexer": "ipython3",
   "version": "3.7.3"
  }
 },
 "nbformat": 4,
 "nbformat_minor": 1
}
